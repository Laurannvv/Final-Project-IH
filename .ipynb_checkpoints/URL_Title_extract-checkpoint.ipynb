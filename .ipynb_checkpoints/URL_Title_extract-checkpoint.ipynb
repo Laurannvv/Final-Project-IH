{
 "cells": [
  {
   "cell_type": "code",
   "execution_count": 3,
   "metadata": {},
   "outputs": [],
   "source": [
    "import requests\n",
    "from bs4 import BeautifulSoup\n",
    "import pandas as pd\n",
    "import lxml\n",
    "import re"
   ]
  },
  {
   "cell_type": "code",
   "execution_count": 4,
   "metadata": {},
   "outputs": [],
   "source": [
    "url = 'https://eur-lex.europa.eu/search.html?SUBDOM_INIT=ALL_ALL&DB_TYPE_OF_ACT=regulation&DTS_SUBDOM=ALL_ALL&typeOfActStatus=REGULATION&DTS_DOM=ALL&type=advanced&excConsLeg=true&qid=1607094868246'"
   ]
  },
  {
   "cell_type": "code",
   "execution_count": 71,
   "metadata": {},
   "outputs": [
    {
     "data": {
      "text/plain": [
       "[]"
      ]
     },
     "execution_count": 71,
     "metadata": {},
     "output_type": "execute_result"
    }
   ],
   "source": [
    "#Define function to get link laws\n",
    "\n",
    "# def get_laws(link)\n",
    "# request the html content\n",
    "#html = requests.get(link).content\n",
    "# extract the URL of each laws in html text with beautiful soup and findall\n",
    "#soup = BeautifulSoup(html, \"lxml\")\n",
    "#tags = [URL localtion]\n",
    "#text = [element.text for element in soup.find_all(tags)]\n",
    "# extract the title each laws in html text with beautiful soup and findall\n",
    "#tags = ['h2']\n",
    "#text = [element.text for element in soup.find_all(tags)]\n",
    "#Create DF with the URL and title\n",
    "#return list of URL\n",
    "\n"
   ]
  },
  {
   "cell_type": "code",
   "execution_count": null,
   "metadata": {},
   "outputs": [],
   "source": [
    "import re\n",
    "import time\n",
    "\n",
    "def get_auctions(link):\n",
    "    html = requests.get(link).content\n",
    "    soup = BeautifulSoup(html, \"lxml\")\n",
    "    #soup\n",
    "    text1 = [str(element.a).split('\\n') for element in soup.find_all('h4') if 'aria-describedby' in str(element.a)]\n",
    "    #text1\n",
    "    text2 = [(lijst[0].split('\"'), lijst[1]) for lijst in text1]\n",
    "    #text2\n",
    "    text3 = [[year, month, re.findall('[\\d]+.aspx',tup[0][5])[0].replace('.aspx',''), tup[1].replace('\\r','').strip()] for tup in text2]\n",
    "    #text3\n",
    "    salelist = pd.DataFrame(text3, columns=['year','month','url','title'])\n",
    "    # salelist\n",
    "    return salelist\n",
    "\n",
    "# masterlist = pd.DataFrame(columns=['year','month','url','title'])\n",
    "# for year in range(1998,2020):\n",
    "#     for month in range(1,13):\n",
    "#         url = f'https://www.christies.com/en/results?language=en&month={month}&year={year}'\n",
    "#         month_list = get_auctions(url)\n",
    "#         masterlist = pd.concat([masterlist, month_list], ignore_index=True)\n",
    "#         time.sleep(5)\n",
    "        \n",
    "# masterlist.to_excel(\"./auctionlist.xlsx\")"
   ]
  },
  {
   "cell_type": "code",
   "execution_count": 266,
   "metadata": {},
   "outputs": [],
   "source": [
    "url = 'https://eur-lex.europa.eu/search.html?DTS_SUBDOM=ALL_ALL&DTS_DOM=ALL&type=advanced&excConsLeg=true&qid=1607334624316&SUBDOM_INIT=ALL_ALL'\n",
    "html = requests.get(url).content\n",
    "soup = BeautifulSoup(html, \"lxml\")\n",
    "urls = list(soup.find_all('h2'))\n",
    "txt1=[]\n",
    "for url in urls:\n",
    "    txt1.append(re.findall('https://?[\\w/\\-?=%.]+\\.[\\w/\\-?=%.:\\d]+', str(url)))\n",
    "urls_df = pd.DataFrame(txt1, columns=['url'])\n"
   ]
  },
  {
   "cell_type": "code",
   "execution_count": 264,
   "metadata": {},
   "outputs": [],
   "source": [
    "txt2=[]\n",
    "for url in urls:\n",
    "    print(re.findall('(Decision'|'Regulation'|'Directive')"
   ]
  },
  {
   "cell_type": "code",
   "execution_count": 258,
   "metadata": {},
   "outputs": [
    {
     "data": {
      "text/plain": [
       "[<h2 class=\"panel-title\"><a aria-controls=\"SearchCriteriaPanel\" aria-expanded=\"true\" data-toggle=\"collapse\" href=\"#SearchCriteriaPanel\" onclick=\"createDocPartCookie(this);\" role=\"button\">Search criteria</a></h2>,\n",
       " <h2><a class=\"title\" href=\"./legal-content/AUTO/?uri=CELEX:32020D1598&amp;qid=1607334624316&amp;rid=1\" id=\"cellar_baba8f6c-1da5-11eb-b57e-01aa75ed71a1\" name=\"https://eur-lex.europa.eu/legal-content/AUTO/?uri=CELEX:32020D1598\" onclick=\"eurlexDcsMultiTrack('DCS.dcsuri','/search-effectiveness.html','WT.ti','Search effectiveness','WT.z_sl', 'Decision (EU) 2020\\/1598 of the European Parliament and of the Council of 20 October 2020 on the mobilisation of the European Globalisation Adjustment Fund following an application from Spain \\u2013 EGF\\/2020\\/001 ES\\/Galicia shipbuilding ancillary sectors', 'WT.z_sl_ev', 'c', 'WT.z_sl_rank', '1', 'WT.z_sl_page', '1', 'WT.dl', '21'); return true;\">Decision (EU) 2020/1598 of the European Parliament and of the Council of 20 October 2020 on the mobilisation of the European Globalisation Adjustment Fund following an application from Spain – EGF/2020/001 ES/Galicia shipbuilding ancillary sectors</a></h2>,\n",
       " <h2><a class=\"title\" href=\"./legal-content/AUTO/?uri=CELEX:32020R1503&amp;qid=1607334624316&amp;rid=2\" id=\"cellar_5f5898ca-1299-11eb-9a54-01aa75ed71a1\" name=\"https://eur-lex.europa.eu/legal-content/AUTO/?uri=CELEX:32020R1503\" onclick=\"eurlexDcsMultiTrack('DCS.dcsuri','/search-effectiveness.html','WT.ti','Search effectiveness','WT.z_sl', 'Regulation (EU) 2020\\/1503 of the European Parliament and of the Council of 7 October 2020 on European crowdfunding service providers for business, and amending Regulation (EU) 2017\\/1129 and Directive (EU) 2019\\/1937 (Text with EEA relevance)', 'WT.z_sl_ev', 'c', 'WT.z_sl_rank', '2', 'WT.z_sl_page', '1', 'WT.dl', '21'); return true;\">Regulation (EU) 2020/1503 of the European Parliament and of the Council of 7 October 2020 on European crowdfunding service providers for business, and amending Regulation (EU) 2017/1129 and Directive (EU) 2019/1937 (Text with EEA relevance)</a></h2>,\n",
       " <h2><a class=\"title\" href=\"./legal-content/AUTO/?uri=CELEX:32020R1429&amp;qid=1607334624316&amp;rid=3\" id=\"cellar_b59f4e3b-0c52-11eb-bc07-01aa75ed71a1\" name=\"https://eur-lex.europa.eu/legal-content/AUTO/?uri=CELEX:32020R1429\" onclick=\"eurlexDcsMultiTrack('DCS.dcsuri','/search-effectiveness.html','WT.ti','Search effectiveness','WT.z_sl', 'Regulation (EU) 2020\\/1429 of the European Parliament and of the Council of 7 October 2020 establishing measures for a sustainable rail market in view of the COVID-19 outbreak (Text with EEA relevance)', 'WT.z_sl_ev', 'c', 'WT.z_sl_rank', '3', 'WT.z_sl_page', '1', 'WT.dl', '21'); return true;\">Regulation (EU) 2020/1429 of the European Parliament and of the Council of 7 October 2020 establishing measures for a sustainable rail market in view of the COVID-19 outbreak (Text with EEA relevance)</a></h2>,\n",
       " <h2><a class=\"title\" href=\"./legal-content/AUTO/?uri=CELEX:32020D1268&amp;qid=1607334624316&amp;rid=4\" id=\"cellar_28569fe1-f409-11ea-991b-01aa75ed71a1\" name=\"https://eur-lex.europa.eu/legal-content/AUTO/?uri=CELEX:32020D1268\" onclick=\"eurlexDcsMultiTrack('DCS.dcsuri','/search-effectiveness.html','WT.ti','Search effectiveness','WT.z_sl', 'Decision (EU) 2020\\/1268 of the European Parliament and of the Council of 15 July 2020 on the mobilisation of the Contingency Margin in 2020 to provide continued humanitarian support to refugees in Turkey', 'WT.z_sl_ev', 'c', 'WT.z_sl_rank', '4', 'WT.z_sl_page', '1', 'WT.dl', '21'); return true;\">Decision (EU) 2020/1268 of the European Parliament and of the Council of 15 July 2020 on the mobilisation of the Contingency Margin in 2020 to provide continued humanitarian support to refugees in Turkey</a></h2>,\n",
       " <h2><a class=\"title\" href=\"./legal-content/AUTO/?uri=CELEX:32020D1076&amp;qid=1607334624316&amp;rid=5\" id=\"cellar_bc08e542-d618-11ea-adf7-01aa75ed71a1\" name=\"https://eur-lex.europa.eu/legal-content/AUTO/?uri=CELEX:32020D1076\" onclick=\"eurlexDcsMultiTrack('DCS.dcsuri','/search-effectiveness.html','WT.ti','Search effectiveness','WT.z_sl', 'Decision (EU) 2020\\/1076 of the European Parliament and of the Council of 18 June 2020 on the mobilisation of the European Union Solidarity Fund to provide assistance to Portugal, Spain, Italy and Austria', 'WT.z_sl_ev', 'c', 'WT.z_sl_rank', '5', 'WT.z_sl_page', '1', 'WT.dl', '21'); return true;\">Decision (EU) 2020/1076 of the European Parliament and of the Council of 18 June 2020 on the mobilisation of the European Union Solidarity Fund to provide assistance to Portugal, Spain, Italy and Austria</a></h2>,\n",
       " <h2><a class=\"title\" href=\"./legal-content/AUTO/?uri=CELEX:32020R1056&amp;qid=1607334624316&amp;rid=6\" id=\"cellar_6a3c7c7d-d2f9-11ea-adf7-01aa75ed71a1\" name=\"https://eur-lex.europa.eu/legal-content/AUTO/?uri=CELEX:32020R1056\" onclick=\"eurlexDcsMultiTrack('DCS.dcsuri','/search-effectiveness.html','WT.ti','Search effectiveness','WT.z_sl', 'Regulation (EU) 2020\\/1056 of the European Parliament and of the Council of 15 July 2020 on electronic freight transport information (Text with EEA relevance)', 'WT.z_sl_ev', 'c', 'WT.z_sl_rank', '6', 'WT.z_sl_page', '1', 'WT.dl', '21'); return true;\">Regulation (EU) 2020/1056 of the European Parliament and of the Council of 15 July 2020 on electronic freight transport information (Text with EEA relevance)</a></h2>,\n",
       " <h2><a class=\"title\" href=\"./legal-content/AUTO/?uri=CELEX:32020L1057&amp;qid=1607334624316&amp;rid=7\" id=\"cellar_b31fd962-d2f9-11ea-adf7-01aa75ed71a1\" name=\"https://eur-lex.europa.eu/legal-content/AUTO/?uri=CELEX:32020L1057\" onclick=\"eurlexDcsMultiTrack('DCS.dcsuri','/search-effectiveness.html','WT.ti','Search effectiveness','WT.z_sl', 'Directive (EU) 2020\\/1057 of the European Parliament and of the Council of 15 July 2020 laying down specific rules with respect to Directive 96\\/71\\/EC and Directive 2014\\/67\\/EU for posting drivers in the road transport sector and amending Directive 2006\\/22\\/EC as regards enforcement requirements and Regulation (EU) No 1024\\/2012', 'WT.z_sl_ev', 'c', 'WT.z_sl_rank', '7', 'WT.z_sl_page', '1', 'WT.dl', '21'); return true;\">Directive (EU) 2020/1057 of the European Parliament and of the Council of 15 July 2020 laying down specific rules with respect to Directive 96/71/EC and Directive 2014/67/EU for posting drivers in the road transport sector and amending Directive 2006/22/EC as regards enforcement requirements and Regulation (EU) No 1024/2012</a></h2>,\n",
       " <h2><a class=\"title\" href=\"./legal-content/AUTO/?uri=CELEX:32020R1043&amp;qid=1607334624316&amp;rid=8\" id=\"cellar_d64e1a6e-c7fc-11ea-adf7-01aa75ed71a1\" name=\"https://eur-lex.europa.eu/legal-content/AUTO/?uri=CELEX:32020R1043\" onclick=\"eurlexDcsMultiTrack('DCS.dcsuri','/search-effectiveness.html','WT.ti','Search effectiveness','WT.z_sl', 'Regulation (EU) 2020\\/1043 of the European Parliament and of the Council of 15 July 2020 on the conduct of clinical trials with and supply of medicinal products for human use containing or consisting of genetically modified organisms intended to treat or prevent coronavirus disease (COVID-19)', 'WT.z_sl_ev', 'c', 'WT.z_sl_rank', '8', 'WT.z_sl_page', '1', 'WT.dl', '21'); return true;\">Regulation (EU) 2020/1043 of the European Parliament and of the Council of 15 July 2020 on the conduct of clinical trials with and supply of medicinal products for human use containing or consisting of genetically modified organisms intended to treat or prevent coronavirus disease (COVID-19)</a></h2>,\n",
       " <h2><a class=\"title\" href=\"./legal-content/AUTO/?uri=CELEX:32020R1042&amp;qid=1607334624316&amp;rid=9\" id=\"cellar_93c839fa-c7fc-11ea-adf7-01aa75ed71a1\" name=\"https://eur-lex.europa.eu/legal-content/AUTO/?uri=CELEX:32020R1042\" onclick=\"eurlexDcsMultiTrack('DCS.dcsuri','/search-effectiveness.html','WT.ti','Search effectiveness','WT.z_sl', 'Regulation (EU) 2020\\/1042 of the European Parliament and of the Council of 15 July 2020 laying down temporary measures concerning the time limits for the collection, the verification and the examination stages provided for in Regulation (EU) 2019\\/788 on the European citizens\\u2019 initiative in view of the COVID-19 outbreak', 'WT.z_sl_ev', 'c', 'WT.z_sl_rank', '9', 'WT.z_sl_page', '1', 'WT.dl', '21'); return true;\">Regulation (EU) 2020/1042 of the European Parliament and of the Council of 15 July 2020 laying down temporary measures concerning the time limits for the collection, the verification and the examination stages provided for in Regulation (EU) 2019/788 on the European citizens’ initiative in view of the COVID-19 outbreak</a></h2>,\n",
       " <h2><a class=\"title\" href=\"./legal-content/AUTO/?uri=CELEX:32020D0986&amp;qid=1607334624316&amp;rid=10\" id=\"cellar_04456126-c271-11ea-b3a4-01aa75ed71a1\" name=\"https://eur-lex.europa.eu/legal-content/AUTO/?uri=CELEX:32020D0986\" onclick=\"eurlexDcsMultiTrack('DCS.dcsuri','/search-effectiveness.html','WT.ti','Search effectiveness','WT.z_sl', 'Decision (EU) 2020\\/986 of the European Parliament and of the Council of 18 June 2020 on the mobilisation of the European Globalisation Adjustment Fund (EGF\\/2020\\/000 TA 2020 \\u2013 Technical assistance at the initiative of the Commission)', 'WT.z_sl_ev', 'c', 'WT.z_sl_rank', '10', 'WT.z_sl_page', '1', 'WT.dl', '21'); return true;\">Decision (EU) 2020/986 of the European Parliament and of the Council of 18 June 2020 on the mobilisation of the European Globalisation Adjustment Fund (EGF/2020/000 TA 2020 – Technical assistance at the initiative of the Commission)</a></h2>]"
      ]
     },
     "execution_count": 258,
     "metadata": {},
     "output_type": "execute_result"
    }
   ],
   "source": [
    "urls"
   ]
  },
  {
   "cell_type": "code",
   "execution_count": null,
   "metadata": {},
   "outputs": [],
   "source": []
  }
 ],
 "metadata": {
  "kernelspec": {
   "display_name": "Python 3",
   "language": "python",
   "name": "python3"
  },
  "language_info": {
   "codemirror_mode": {
    "name": "ipython",
    "version": 3
   },
   "file_extension": ".py",
   "mimetype": "text/x-python",
   "name": "python",
   "nbconvert_exporter": "python",
   "pygments_lexer": "ipython3",
   "version": "3.8.5"
  }
 },
 "nbformat": 4,
 "nbformat_minor": 4
}
